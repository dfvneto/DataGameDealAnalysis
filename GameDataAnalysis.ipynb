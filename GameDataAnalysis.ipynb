{
 "cells": [
  {
   "cell_type": "code",
   "execution_count": 38,
   "metadata": {},
   "outputs": [],
   "source": [
    "import pandas as pd\n",
    "import sklearn\n",
    "from sklearn.model_selection import train_test_split"
   ]
  },
  {
   "cell_type": "code",
   "execution_count": 46,
   "metadata": {},
   "outputs": [],
   "source": [
    "result = pd.read_csv(r\"data copy.csv\", index_col=0)\n",
    "\n"
   ]
  },
  {
   "cell_type": "code",
   "execution_count": 40,
   "metadata": {},
   "outputs": [],
   "source": [
    "# result.drop(\"salePrice\", 1, inplace=True)\n",
    "# result.drop(\"normalPrice\", 1, inplace=True)\n",
    "# result.to_csv(r\"data copy.csv\", index=True)"
   ]
  },
  {
   "cell_type": "code",
   "execution_count": 78,
   "metadata": {},
   "outputs": [
    {
     "data": {
      "text/html": [
       "<div>\n",
       "<style scoped>\n",
       "    .dataframe tbody tr th:only-of-type {\n",
       "        vertical-align: middle;\n",
       "    }\n",
       "\n",
       "    .dataframe tbody tr th {\n",
       "        vertical-align: top;\n",
       "    }\n",
       "\n",
       "    .dataframe thead th {\n",
       "        text-align: right;\n",
       "    }\n",
       "</style>\n",
       "<table border=\"1\" class=\"dataframe\">\n",
       "  <thead>\n",
       "    <tr style=\"text-align: right;\">\n",
       "      <th></th>\n",
       "      <th>savings</th>\n",
       "      <th>metacriticScore</th>\n",
       "      <th>steamRatingPercent</th>\n",
       "      <th>releaseDate</th>\n",
       "      <th>lastChange</th>\n",
       "      <th>dealRating</th>\n",
       "    </tr>\n",
       "  </thead>\n",
       "  <tbody>\n",
       "    <tr>\n",
       "      <th>4</th>\n",
       "      <td>90.045023</td>\n",
       "      <td>68</td>\n",
       "      <td>77</td>\n",
       "      <td>1610582400</td>\n",
       "      <td>1635343461</td>\n",
       "      <td>9.6</td>\n",
       "    </tr>\n",
       "    <tr>\n",
       "      <th>5</th>\n",
       "      <td>90.865144</td>\n",
       "      <td>88</td>\n",
       "      <td>84</td>\n",
       "      <td>1454630400</td>\n",
       "      <td>1635423966</td>\n",
       "      <td>9.6</td>\n",
       "    </tr>\n",
       "    <tr>\n",
       "      <th>6</th>\n",
       "      <td>85.042521</td>\n",
       "      <td>91</td>\n",
       "      <td>92</td>\n",
       "      <td>1382400000</td>\n",
       "      <td>1635448689</td>\n",
       "      <td>9.6</td>\n",
       "    </tr>\n",
       "    <tr>\n",
       "      <th>7</th>\n",
       "      <td>85.034014</td>\n",
       "      <td>91</td>\n",
       "      <td>88</td>\n",
       "      <td>1468281600</td>\n",
       "      <td>1635450951</td>\n",
       "      <td>9.6</td>\n",
       "    </tr>\n",
       "    <tr>\n",
       "      <th>8</th>\n",
       "      <td>90.015003</td>\n",
       "      <td>88</td>\n",
       "      <td>84</td>\n",
       "      <td>1454630400</td>\n",
       "      <td>1635448217</td>\n",
       "      <td>9.5</td>\n",
       "    </tr>\n",
       "    <tr>\n",
       "      <th>...</th>\n",
       "      <td>...</td>\n",
       "      <td>...</td>\n",
       "      <td>...</td>\n",
       "      <td>...</td>\n",
       "      <td>...</td>\n",
       "      <td>...</td>\n",
       "    </tr>\n",
       "    <tr>\n",
       "      <th>40527</th>\n",
       "      <td>0.000000</td>\n",
       "      <td>52</td>\n",
       "      <td>35</td>\n",
       "      <td>1400112000</td>\n",
       "      <td>1629389113</td>\n",
       "      <td>0.0</td>\n",
       "    </tr>\n",
       "    <tr>\n",
       "      <th>40528</th>\n",
       "      <td>0.000000</td>\n",
       "      <td>52</td>\n",
       "      <td>35</td>\n",
       "      <td>1400112000</td>\n",
       "      <td>1548864012</td>\n",
       "      <td>0.0</td>\n",
       "    </tr>\n",
       "    <tr>\n",
       "      <th>40529</th>\n",
       "      <td>0.000000</td>\n",
       "      <td>52</td>\n",
       "      <td>35</td>\n",
       "      <td>1400112000</td>\n",
       "      <td>1628607952</td>\n",
       "      <td>0.0</td>\n",
       "    </tr>\n",
       "    <tr>\n",
       "      <th>40530</th>\n",
       "      <td>0.000000</td>\n",
       "      <td>52</td>\n",
       "      <td>35</td>\n",
       "      <td>1400112000</td>\n",
       "      <td>1604761413</td>\n",
       "      <td>0.0</td>\n",
       "    </tr>\n",
       "    <tr>\n",
       "      <th>40531</th>\n",
       "      <td>0.000000</td>\n",
       "      <td>52</td>\n",
       "      <td>35</td>\n",
       "      <td>1400112000</td>\n",
       "      <td>1616149844</td>\n",
       "      <td>0.0</td>\n",
       "    </tr>\n",
       "  </tbody>\n",
       "</table>\n",
       "<p>15703 rows × 6 columns</p>\n",
       "</div>"
      ],
      "text/plain": [
       "         savings  metacriticScore  steamRatingPercent  releaseDate  \\\n",
       "4      90.045023               68                  77   1610582400   \n",
       "5      90.865144               88                  84   1454630400   \n",
       "6      85.042521               91                  92   1382400000   \n",
       "7      85.034014               91                  88   1468281600   \n",
       "8      90.015003               88                  84   1454630400   \n",
       "...          ...              ...                 ...          ...   \n",
       "40527   0.000000               52                  35   1400112000   \n",
       "40528   0.000000               52                  35   1400112000   \n",
       "40529   0.000000               52                  35   1400112000   \n",
       "40530   0.000000               52                  35   1400112000   \n",
       "40531   0.000000               52                  35   1400112000   \n",
       "\n",
       "       lastChange  dealRating  \n",
       "4      1635343461         9.6  \n",
       "5      1635423966         9.6  \n",
       "6      1635448689         9.6  \n",
       "7      1635450951         9.6  \n",
       "8      1635448217         9.5  \n",
       "...           ...         ...  \n",
       "40527  1629389113         0.0  \n",
       "40528  1548864012         0.0  \n",
       "40529  1628607952         0.0  \n",
       "40530  1604761413         0.0  \n",
       "40531  1616149844         0.0  \n",
       "\n",
       "[15703 rows x 6 columns]"
      ]
     },
     "execution_count": 78,
     "metadata": {},
     "output_type": "execute_result"
    }
   ],
   "source": [
    "result\n"
   ]
  },
  {
   "cell_type": "code",
   "execution_count": 42,
   "metadata": {},
   "outputs": [],
   "source": [
    "# indexes = list()\n",
    "# for index, row in result.iterrows():\n",
    "#     if (row[\"isOnSale\"] == 0):\n",
    "#         indexes.append(index)\n",
    "# print(len(indexes))\n",
    "# result.drop(indexes, axis=0, inplace=True)\n",
    "# result.drop(\"Unnamed: 0\", 1, inplace=True)\n",
    "# result.to_csv(r\"data copy.csv\", index=True)"
   ]
  },
  {
   "cell_type": "code",
   "execution_count": 79,
   "metadata": {},
   "outputs": [
    {
     "data": {
      "text/plain": [
       "Text(0, 0.5, 'Saving')"
      ]
     },
     "execution_count": 79,
     "metadata": {},
     "output_type": "execute_result"
    },
    {
     "data": {
      "image/png": "[encoded data removed]",
      "text/plain": [
       "<Figure size 720x504 with 1 Axes>"
      ]
     },
     "metadata": {
      "needs_background": "light"
     },
     "output_type": "display_data"
    }
   ],
   "source": [
    "import matplotlib.pyplot as plt\n",
    "\n",
    "ax1= result.plot(kind='scatter', x='dealRating',y='savings', color='blue',alpha=0.5, figsize=(10,7))\n",
    "\n",
    "\n",
    "plt.title('Relationship between dealRating and Savings', size=24)\n",
    "plt.xlabel('DealRating', size=18)\n",
    "plt.ylabel('Saving', size=18)"
   ]
  },
  {
   "cell_type": "code",
   "execution_count": 61,
   "metadata": {},
   "outputs": [],
   "source": [
    "# \n",
    "\n",
    "X = result.drop('dealRating', axis = 1)   # X  For Train\n",
    "y = result['dealRating']\n",
    "X_train, X_test, y_train, y_test = train_test_split( X, y, test_size = 0.20,random_state=0)"
   ]
  },
  {
   "cell_type": "code",
   "execution_count": 80,
   "metadata": {},
   "outputs": [
    {
     "data": {
      "text/plain": [
       "30421    0.0\n",
       "27470    0.0\n",
       "30088    0.0\n",
       "388      8.5\n",
       "39989    0.0\n",
       "        ... \n",
       "33944    0.0\n",
       "3369     6.9\n",
       "26486    0.0\n",
       "28421    0.0\n",
       "2765     7.2\n",
       "Name: dealRating, Length: 12562, dtype: float64"
      ]
     },
     "execution_count": 80,
     "metadata": {},
     "output_type": "execute_result"
    }
   ],
   "source": [
    "# normalização\n",
    "from sklearn.preprocessing import normalize\n",
    "y_train\n",
    "# x_normalized = normalize(X)\n",
    "# print(x_normalized)"
   ]
  },
  {
   "cell_type": "code",
   "execution_count": 64,
   "metadata": {},
   "outputs": [
    {
     "name": "stdout",
     "output_type": "stream",
     "text": [
      "Intercept: -6.447922093790366\n",
      "Slope: [9.34569752e-02 2.13430500e-02 3.90082572e-04 7.02737320e-10\n",
      " 2.62303411e-09]\n"
     ]
    }
   ],
   "source": [
    "from sklearn.linear_model import LinearRegression\n",
    "\n",
    "model = LinearRegression()\n",
    "\n",
    "model.fit(X_train, y_train) #training the algorithm\n",
    "\n",
    "print('Intercept:',model.intercept_)\n",
    "\n",
    "# For retrieving the slope:\n",
    "print('Slope:',model.coef_)"
   ]
  },
  {
   "cell_type": "code",
   "execution_count": 65,
   "metadata": {},
   "outputs": [
    {
     "data": {
      "text/html": [
       "<div>\n",
       "<style scoped>\n",
       "    .dataframe tbody tr th:only-of-type {\n",
       "        vertical-align: middle;\n",
       "    }\n",
       "\n",
       "    .dataframe tbody tr th {\n",
       "        vertical-align: top;\n",
       "    }\n",
       "\n",
       "    .dataframe thead th {\n",
       "        text-align: right;\n",
       "    }\n",
       "</style>\n",
       "<table border=\"1\" class=\"dataframe\">\n",
       "  <thead>\n",
       "    <tr style=\"text-align: right;\">\n",
       "      <th></th>\n",
       "      <th>savings</th>\n",
       "      <th>metacriticScore</th>\n",
       "      <th>steamRatingPercent</th>\n",
       "      <th>releaseDate</th>\n",
       "      <th>lastChange</th>\n",
       "    </tr>\n",
       "  </thead>\n",
       "  <tbody>\n",
       "    <tr>\n",
       "      <th>6040</th>\n",
       "      <td>49.979992</td>\n",
       "      <td>86</td>\n",
       "      <td>96</td>\n",
       "      <td>1590019200</td>\n",
       "      <td>1635174681</td>\n",
       "    </tr>\n",
       "    <tr>\n",
       "      <th>4366</th>\n",
       "      <td>75.075075</td>\n",
       "      <td>64</td>\n",
       "      <td>53</td>\n",
       "      <td>1049673600</td>\n",
       "      <td>1634939987</td>\n",
       "    </tr>\n",
       "    <tr>\n",
       "      <th>8147</th>\n",
       "      <td>40.020010</td>\n",
       "      <td>80</td>\n",
       "      <td>97</td>\n",
       "      <td>1568851200</td>\n",
       "      <td>1635402102</td>\n",
       "    </tr>\n",
       "    <tr>\n",
       "      <th>3454</th>\n",
       "      <td>60.040027</td>\n",
       "      <td>78</td>\n",
       "      <td>93</td>\n",
       "      <td>1590624000</td>\n",
       "      <td>1635549877</td>\n",
       "    </tr>\n",
       "    <tr>\n",
       "      <th>5837</th>\n",
       "      <td>50.029429</td>\n",
       "      <td>47</td>\n",
       "      <td>56</td>\n",
       "      <td>1616630400</td>\n",
       "      <td>1635147984</td>\n",
       "    </tr>\n",
       "  </tbody>\n",
       "</table>\n",
       "</div>"
      ],
      "text/plain": [
       "        savings  metacriticScore  steamRatingPercent  releaseDate  lastChange\n",
       "6040  49.979992               86                  96   1590019200  1635174681\n",
       "4366  75.075075               64                  53   1049673600  1634939987\n",
       "8147  40.020010               80                  97   1568851200  1635402102\n",
       "3454  60.040027               78                  93   1590624000  1635549877\n",
       "5837  50.029429               47                  56   1616630400  1635147984"
      ]
     },
     "execution_count": 65,
     "metadata": {},
     "output_type": "execute_result"
    }
   ],
   "source": [
    "y_pred = model.predict(X_test)\n",
    "X_test.head()"
   ]
  },
  {
   "cell_type": "code",
   "execution_count": 76,
   "metadata": {},
   "outputs": [
    {
     "data": {
      "text/html": [
       "<div>\n",
       "<style scoped>\n",
       "    .dataframe tbody tr th:only-of-type {\n",
       "        vertical-align: middle;\n",
       "    }\n",
       "\n",
       "    .dataframe tbody tr th {\n",
       "        vertical-align: top;\n",
       "    }\n",
       "\n",
       "    .dataframe thead th {\n",
       "        text-align: right;\n",
       "    }\n",
       "</style>\n",
       "<table border=\"1\" class=\"dataframe\">\n",
       "  <thead>\n",
       "    <tr style=\"text-align: right;\">\n",
       "      <th></th>\n",
       "      <th>Index</th>\n",
       "      <th>Actual</th>\n",
       "      <th>Predicted</th>\n",
       "    </tr>\n",
       "  </thead>\n",
       "  <tbody>\n",
       "    <tr>\n",
       "      <th>0</th>\n",
       "      <td>6040</td>\n",
       "      <td>5.8</td>\n",
       "      <td>5.502492</td>\n",
       "    </tr>\n",
       "    <tr>\n",
       "      <th>1</th>\n",
       "      <td>4366</td>\n",
       "      <td>6.4</td>\n",
       "      <td>6.981145</td>\n",
       "    </tr>\n",
       "    <tr>\n",
       "      <th>2</th>\n",
       "      <td>8147</td>\n",
       "      <td>5.0</td>\n",
       "      <td>4.429715</td>\n",
       "    </tr>\n",
       "    <tr>\n",
       "      <th>3</th>\n",
       "      <td>3454</td>\n",
       "      <td>6.9</td>\n",
       "      <td>6.272167</td>\n",
       "    </tr>\n",
       "    <tr>\n",
       "      <th>4</th>\n",
       "      <td>5837</td>\n",
       "      <td>5.9</td>\n",
       "      <td>4.677760</td>\n",
       "    </tr>\n",
       "    <tr>\n",
       "      <th>...</th>\n",
       "      <td>...</td>\n",
       "      <td>...</td>\n",
       "      <td>...</td>\n",
       "    </tr>\n",
       "    <tr>\n",
       "      <th>3136</th>\n",
       "      <td>23397</td>\n",
       "      <td>1.4</td>\n",
       "      <td>1.497990</td>\n",
       "    </tr>\n",
       "    <tr>\n",
       "      <th>3137</th>\n",
       "      <td>3500</td>\n",
       "      <td>6.9</td>\n",
       "      <td>6.964304</td>\n",
       "    </tr>\n",
       "    <tr>\n",
       "      <th>3138</th>\n",
       "      <td>17338</td>\n",
       "      <td>2.9</td>\n",
       "      <td>1.726273</td>\n",
       "    </tr>\n",
       "    <tr>\n",
       "      <th>3139</th>\n",
       "      <td>18313</td>\n",
       "      <td>2.7</td>\n",
       "      <td>1.797856</td>\n",
       "    </tr>\n",
       "    <tr>\n",
       "      <th>3140</th>\n",
       "      <td>37829</td>\n",
       "      <td>0.0</td>\n",
       "      <td>0.348864</td>\n",
       "    </tr>\n",
       "  </tbody>\n",
       "</table>\n",
       "<p>3141 rows × 3 columns</p>\n",
       "</div>"
      ],
      "text/plain": [
       "      Index  Actual  Predicted\n",
       "0      6040     5.8   5.502492\n",
       "1      4366     6.4   6.981145\n",
       "2      8147     5.0   4.429715\n",
       "3      3454     6.9   6.272167\n",
       "4      5837     5.9   4.677760\n",
       "...     ...     ...        ...\n",
       "3136  23397     1.4   1.497990\n",
       "3137   3500     6.9   6.964304\n",
       "3138  17338     2.9   1.726273\n",
       "3139  18313     2.7   1.797856\n",
       "3140  37829     0.0   0.348864\n",
       "\n",
       "[3141 rows x 3 columns]"
      ]
     },
     "execution_count": 76,
     "metadata": {},
     "output_type": "execute_result"
    }
   ],
   "source": [
    "# plt.plot(X_test, model.predict(X_test), color='red',linewidth=3)\n",
    "df_pred = pd.DataFrame({'Index': y_test.index, 'Actual': y_test.ravel(), 'Predicted': y_pred.ravel()})\n",
    "df_pred"
   ]
  },
  {
   "cell_type": "code",
   "execution_count": 77,
   "metadata": {},
   "outputs": [
    {
     "name": "stdout",
     "output_type": "stream",
     "text": [
      "0.9386837010090255\n"
     ]
    }
   ],
   "source": [
    "print(model.score(X_test,y_test))\n"
   ]
  }
 ],
 "metadata": {
  "kernelspec": {
   "display_name": "Python 3",
   "language": "python",
   "name": "python3"
  },
  "language_info": {
   "codemirror_mode": {
    "name": "ipython",
    "version": 3
   },
   "file_extension": ".py",
   "mimetype": "text/x-python",
   "name": "python",
   "nbconvert_exporter": "python",
   "pygments_lexer": "ipython3",
   "version": "3.6.9"
  }
 },
 "nbformat": 4,
 "nbformat_minor": 4
}
